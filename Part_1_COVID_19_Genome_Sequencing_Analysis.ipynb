{
  "cells": [
    {
      "cell_type": "markdown",
      "metadata": {
        "id": "view-in-github",
        "colab_type": "text"
      },
      "source": [
        "<a href=\"https://colab.research.google.com/github/Nazaruk-Anton/COVID-19-Genome-Sequencing-Analysis-and-Bit-Score-Prediction/blob/main/Part_1_COVID_19_Genome_Sequencing_Analysis.ipynb\" target=\"_parent\"><img src=\"https://colab.research.google.com/assets/colab-badge.svg\" alt=\"Open In Colab\"/></a>"
      ]
    },
    {
      "cell_type": "code",
      "execution_count": 2,
      "metadata": {
        "id": "syo7bnXyBved"
      },
      "outputs": [],
      "source": [
        "### Importing packages and reading in data.\n",
        "### Genome sequencing data is stored in the dataframe df.\n",
        "### Our goal will be to find similarities between the sequences and characterize it.\n",
        "\n",
        "import pandas as pd\n",
        "import numpy as np\n",
        "\n",
        "df = pd.read_csv('/content/SARS_CORONAVIRUS_NC_045512_sequence.fasta', header = None)[1:][0]\n",
        "df = pd.DataFrame(df)\n",
        "df.columns = ['Genome Sequence']"
      ]
    },
    {
      "cell_type": "code",
      "execution_count": 3,
      "metadata": {
        "id": "MN1tP8a9Bveo"
      },
      "outputs": [],
      "source": [
        "# Calculate the length of each genome sequence and store the results in a new column 'Length'\n",
        "df['Length'] = df['Genome Sequence'].apply(lambda x: len(x))\n",
        "\n",
        "# Find the median length of the genome sequences\n",
        "mid_length = np.median(df['Length'])\n",
        "\n",
        "# Filter the DataFrame to keep only the rows with the length equal to the median length\n",
        "df = df[df.Length == mid_length]\n"
      ]
    },
    {
      "cell_type": "code",
      "execution_count": 4,
      "metadata": {
        "id": "55BOK9euBvep"
      },
      "outputs": [],
      "source": [
        "## Create a new column titled 'Match?' with a 1/0 corresponding to whether or not the sequence\n",
        "## contains the substring 'TAATTTAGGCATGCCTT'.\n",
        "\n",
        "df['Match?'] = df['Genome Sequence'].apply(lambda x: x.find('TAATTTAGGCATGCCTT'))\n",
        "df['Match?'] = df['Match?'].apply(lambda x: 0 if x == -1 else 1)"
      ]
    },
    {
      "cell_type": "code",
      "execution_count": 5,
      "metadata": {
        "id": "WD6C1CinBvep"
      },
      "outputs": [],
      "source": [
        "## Create a matrix called 'differences' storing the number of differences in the sequences between the rows.\n",
        "\n",
        "def diff_letters(a,b):\n",
        "    return sum ( a[i] != b[i] for i in range(len(a)) )\n",
        "\n",
        "differences = []\n",
        "for name, row in df.iterrows():\n",
        "    temp_diff = []\n",
        "    for j in range(len(df)):\n",
        "        temp_diff.append(diff_letters(row[0], df.iloc[j]['Genome Sequence']))\n",
        "    differences.append(temp_diff) "
      ]
    },
    {
      "cell_type": "code",
      "execution_count": 9,
      "metadata": {
        "colab": {
          "base_uri": "https://localhost:8080/"
        },
        "id": "OY3PSF_CBveq",
        "outputId": "187105be-1fec-414b-9387-54ebd4632cfd"
      },
      "outputs": [
        {
          "output_type": "stream",
          "name": "stdout",
          "text": [
            "0\n"
          ]
        }
      ],
      "source": [
        "## Create the two genome sequences that are most similar. Store them in a tuple called 'similar' with the format (row1, row2).\n",
        "\n",
        "min_val = 1000\n",
        "similar = 0\n",
        "for i in range(len(differences)):\n",
        "    for j in range(len(differences[0])):\n",
        "        if differences[i][j] < min_val and differences[i][j] != 0:\n",
        "            min_val = differences[i][j]\n",
        "            similar = (i,j)\n",
        "print(differences[i][j])"
      ]
    }
  ],
  "metadata": {
    "kernelspec": {
      "display_name": "Python 3",
      "language": "python",
      "name": "python3"
    },
    "language_info": {
      "codemirror_mode": {
        "name": "ipython",
        "version": 3
      },
      "file_extension": ".py",
      "mimetype": "text/x-python",
      "name": "python",
      "nbconvert_exporter": "python",
      "pygments_lexer": "ipython3",
      "version": "3.7.6"
    },
    "colab": {
      "provenance": [],
      "include_colab_link": true
    }
  },
  "nbformat": 4,
  "nbformat_minor": 0
}