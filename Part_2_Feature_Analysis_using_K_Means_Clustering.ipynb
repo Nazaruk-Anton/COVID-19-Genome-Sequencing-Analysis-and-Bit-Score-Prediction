{
  "cells": [
    {
      "cell_type": "markdown",
      "metadata": {
        "id": "view-in-github",
        "colab_type": "text"
      },
      "source": [
        "<a href=\"https://colab.research.google.com/github/Nazaruk-Anton/COVID-19-Genome-Sequencing-Analysis-and-Bit-Score-Prediction/blob/main/Part_2_Feature_Analysis_using_K_Means_Clustering.ipynb\" target=\"_parent\"><img src=\"https://colab.research.google.com/assets/colab-badge.svg\" alt=\"Open In Colab\"/></a>"
      ]
    },
    {
      "cell_type": "markdown",
      "metadata": {
        "deletable": false,
        "editable": false,
        "nbgrader": {
          "cell_type": "markdown",
          "checksum": "d8512336e48185ac93c20fe259c16ae6",
          "grade": false,
          "grade_id": "cell-d6f87c0400a4161d",
          "locked": true,
          "schema_version": 3,
          "solution": false,
          "task": false
        },
        "id": "JkAyFy8EC23x"
      },
      "source": [
        "## K-means clustering\n",
        "\n",
        "In this notebook, we'll cluster sequences to find similar sequences with similar patterns."
      ]
    },
    {
      "cell_type": "code",
      "execution_count": null,
      "metadata": {
        "deletable": false,
        "editable": false,
        "nbgrader": {
          "cell_type": "code",
          "checksum": "9bb56e548fb11a2ab806d6edf54ece4c",
          "grade": false,
          "grade_id": "cell-61654ec5a7c91faa",
          "locked": true,
          "schema_version": 3,
          "solution": false,
          "task": false
        },
        "id": "BY-898ufC232"
      },
      "outputs": [],
      "source": [
        "### Loading in libraries and packages\n",
        "\n",
        "import pandas as pd\n",
        "import numpy as np\n",
        "import seaborn as sns\n",
        "import matplotlib.pyplot as plt\n",
        "from sklearn.cluster import KMeans\n",
        "from sklearn.metrics import silhouette_score\n",
        "from sklearn.preprocessing import StandardScaler"
      ]
    },
    {
      "cell_type": "code",
      "execution_count": null,
      "metadata": {
        "deletable": false,
        "editable": false,
        "nbgrader": {
          "cell_type": "code",
          "checksum": "9d9acd04652b7a0c3c96cdb2ead504c1",
          "grade": false,
          "grade_id": "cell-dabac1cbf04f8904",
          "locked": true,
          "schema_version": 3,
          "solution": false,
          "task": false
        },
        "colab": {
          "base_uri": "https://localhost:8080/",
          "height": 250
        },
        "id": "iaBRs3UuC233",
        "outputId": "a1e27bef-9511-4189-c1f1-ace064eaf1dc"
      },
      "outputs": [
        {
          "output_type": "execute_result",
          "data": {
            "text/plain": [
              "  query acc.verr subject acc.ver  % identity  alignment length  mismatches  \\\n",
              "0     MN997409.1      MN997409.1      100.00             29882           0   \n",
              "1     MN997409.1      MT020881.1       99.99             29882           3   \n",
              "2     MN997409.1      MT020880.1       99.99             29882           3   \n",
              "3     MN997409.1      MN985325.1       99.99             29882           3   \n",
              "4     MN997409.1      MN975262.1       99.99             29882           3   \n",
              "\n",
              "   gap opens  q. start  q. end  s. start  s. end  evalue  bit score  \n",
              "0          0         1   29882         1   29882     0.0      55182  \n",
              "1          0         1   29882         1   29882     0.0      55166  \n",
              "2          0         1   29882         1   29882     0.0      55166  \n",
              "3          0         1   29882         1   29882     0.0      55166  \n",
              "4          0         1   29882         1   29882     0.0      55166  "
            ],
            "text/html": [
              "\n",
              "  <div id=\"df-aee6920d-50b2-4cae-aa95-5f620a500cdd\">\n",
              "    <div class=\"colab-df-container\">\n",
              "      <div>\n",
              "<style scoped>\n",
              "    .dataframe tbody tr th:only-of-type {\n",
              "        vertical-align: middle;\n",
              "    }\n",
              "\n",
              "    .dataframe tbody tr th {\n",
              "        vertical-align: top;\n",
              "    }\n",
              "\n",
              "    .dataframe thead th {\n",
              "        text-align: right;\n",
              "    }\n",
              "</style>\n",
              "<table border=\"1\" class=\"dataframe\">\n",
              "  <thead>\n",
              "    <tr style=\"text-align: right;\">\n",
              "      <th></th>\n",
              "      <th>query acc.verr</th>\n",
              "      <th>subject acc.ver</th>\n",
              "      <th>% identity</th>\n",
              "      <th>alignment length</th>\n",
              "      <th>mismatches</th>\n",
              "      <th>gap opens</th>\n",
              "      <th>q. start</th>\n",
              "      <th>q. end</th>\n",
              "      <th>s. start</th>\n",
              "      <th>s. end</th>\n",
              "      <th>evalue</th>\n",
              "      <th>bit score</th>\n",
              "    </tr>\n",
              "  </thead>\n",
              "  <tbody>\n",
              "    <tr>\n",
              "      <th>0</th>\n",
              "      <td>MN997409.1</td>\n",
              "      <td>MN997409.1</td>\n",
              "      <td>100.00</td>\n",
              "      <td>29882</td>\n",
              "      <td>0</td>\n",
              "      <td>0</td>\n",
              "      <td>1</td>\n",
              "      <td>29882</td>\n",
              "      <td>1</td>\n",
              "      <td>29882</td>\n",
              "      <td>0.0</td>\n",
              "      <td>55182</td>\n",
              "    </tr>\n",
              "    <tr>\n",
              "      <th>1</th>\n",
              "      <td>MN997409.1</td>\n",
              "      <td>MT020881.1</td>\n",
              "      <td>99.99</td>\n",
              "      <td>29882</td>\n",
              "      <td>3</td>\n",
              "      <td>0</td>\n",
              "      <td>1</td>\n",
              "      <td>29882</td>\n",
              "      <td>1</td>\n",
              "      <td>29882</td>\n",
              "      <td>0.0</td>\n",
              "      <td>55166</td>\n",
              "    </tr>\n",
              "    <tr>\n",
              "      <th>2</th>\n",
              "      <td>MN997409.1</td>\n",
              "      <td>MT020880.1</td>\n",
              "      <td>99.99</td>\n",
              "      <td>29882</td>\n",
              "      <td>3</td>\n",
              "      <td>0</td>\n",
              "      <td>1</td>\n",
              "      <td>29882</td>\n",
              "      <td>1</td>\n",
              "      <td>29882</td>\n",
              "      <td>0.0</td>\n",
              "      <td>55166</td>\n",
              "    </tr>\n",
              "    <tr>\n",
              "      <th>3</th>\n",
              "      <td>MN997409.1</td>\n",
              "      <td>MN985325.1</td>\n",
              "      <td>99.99</td>\n",
              "      <td>29882</td>\n",
              "      <td>3</td>\n",
              "      <td>0</td>\n",
              "      <td>1</td>\n",
              "      <td>29882</td>\n",
              "      <td>1</td>\n",
              "      <td>29882</td>\n",
              "      <td>0.0</td>\n",
              "      <td>55166</td>\n",
              "    </tr>\n",
              "    <tr>\n",
              "      <th>4</th>\n",
              "      <td>MN997409.1</td>\n",
              "      <td>MN975262.1</td>\n",
              "      <td>99.99</td>\n",
              "      <td>29882</td>\n",
              "      <td>3</td>\n",
              "      <td>0</td>\n",
              "      <td>1</td>\n",
              "      <td>29882</td>\n",
              "      <td>1</td>\n",
              "      <td>29882</td>\n",
              "      <td>0.0</td>\n",
              "      <td>55166</td>\n",
              "    </tr>\n",
              "  </tbody>\n",
              "</table>\n",
              "</div>\n",
              "      <button class=\"colab-df-convert\" onclick=\"convertToInteractive('df-aee6920d-50b2-4cae-aa95-5f620a500cdd')\"\n",
              "              title=\"Convert this dataframe to an interactive table.\"\n",
              "              style=\"display:none;\">\n",
              "        \n",
              "  <svg xmlns=\"http://www.w3.org/2000/svg\" height=\"24px\"viewBox=\"0 0 24 24\"\n",
              "       width=\"24px\">\n",
              "    <path d=\"M0 0h24v24H0V0z\" fill=\"none\"/>\n",
              "    <path d=\"M18.56 5.44l.94 2.06.94-2.06 2.06-.94-2.06-.94-.94-2.06-.94 2.06-2.06.94zm-11 1L8.5 8.5l.94-2.06 2.06-.94-2.06-.94L8.5 2.5l-.94 2.06-2.06.94zm10 10l.94 2.06.94-2.06 2.06-.94-2.06-.94-.94-2.06-.94 2.06-2.06.94z\"/><path d=\"M17.41 7.96l-1.37-1.37c-.4-.4-.92-.59-1.43-.59-.52 0-1.04.2-1.43.59L10.3 9.45l-7.72 7.72c-.78.78-.78 2.05 0 2.83L4 21.41c.39.39.9.59 1.41.59.51 0 1.02-.2 1.41-.59l7.78-7.78 2.81-2.81c.8-.78.8-2.07 0-2.86zM5.41 20L4 18.59l7.72-7.72 1.47 1.35L5.41 20z\"/>\n",
              "  </svg>\n",
              "      </button>\n",
              "      \n",
              "  <style>\n",
              "    .colab-df-container {\n",
              "      display:flex;\n",
              "      flex-wrap:wrap;\n",
              "      gap: 12px;\n",
              "    }\n",
              "\n",
              "    .colab-df-convert {\n",
              "      background-color: #E8F0FE;\n",
              "      border: none;\n",
              "      border-radius: 50%;\n",
              "      cursor: pointer;\n",
              "      display: none;\n",
              "      fill: #1967D2;\n",
              "      height: 32px;\n",
              "      padding: 0 0 0 0;\n",
              "      width: 32px;\n",
              "    }\n",
              "\n",
              "    .colab-df-convert:hover {\n",
              "      background-color: #E2EBFA;\n",
              "      box-shadow: 0px 1px 2px rgba(60, 64, 67, 0.3), 0px 1px 3px 1px rgba(60, 64, 67, 0.15);\n",
              "      fill: #174EA6;\n",
              "    }\n",
              "\n",
              "    [theme=dark] .colab-df-convert {\n",
              "      background-color: #3B4455;\n",
              "      fill: #D2E3FC;\n",
              "    }\n",
              "\n",
              "    [theme=dark] .colab-df-convert:hover {\n",
              "      background-color: #434B5C;\n",
              "      box-shadow: 0px 1px 3px 1px rgba(0, 0, 0, 0.15);\n",
              "      filter: drop-shadow(0px 1px 2px rgba(0, 0, 0, 0.3));\n",
              "      fill: #FFFFFF;\n",
              "    }\n",
              "  </style>\n",
              "\n",
              "      <script>\n",
              "        const buttonEl =\n",
              "          document.querySelector('#df-aee6920d-50b2-4cae-aa95-5f620a500cdd button.colab-df-convert');\n",
              "        buttonEl.style.display =\n",
              "          google.colab.kernel.accessAllowed ? 'block' : 'none';\n",
              "\n",
              "        async function convertToInteractive(key) {\n",
              "          const element = document.querySelector('#df-aee6920d-50b2-4cae-aa95-5f620a500cdd');\n",
              "          const dataTable =\n",
              "            await google.colab.kernel.invokeFunction('convertToInteractive',\n",
              "                                                     [key], {});\n",
              "          if (!dataTable) return;\n",
              "\n",
              "          const docLinkHtml = 'Like what you see? Visit the ' +\n",
              "            '<a target=\"_blank\" href=https://colab.research.google.com/notebooks/data_table.ipynb>data table notebook</a>'\n",
              "            + ' to learn more about interactive tables.';\n",
              "          element.innerHTML = '';\n",
              "          dataTable['output_type'] = 'display_data';\n",
              "          await google.colab.output.renderOutput(dataTable, element);\n",
              "          const docLink = document.createElement('div');\n",
              "          docLink.innerHTML = docLinkHtml;\n",
              "          element.appendChild(docLink);\n",
              "        }\n",
              "      </script>\n",
              "    </div>\n",
              "  </div>\n",
              "  "
            ]
          },
          "metadata": {},
          "execution_count": 19
        }
      ],
      "source": [
        "### Read in data. We'll store our data in a dataframe called 'df'\n",
        "\n",
        "df = pd.read_csv('/content/Alignment-HitTable.csv', header = None)\n",
        "df.columns = ['query acc.verr', 'subject acc.ver', '% identity', 'alignment length', 'mismatches', \n",
        "             'gap opens', 'q. start', 'q. end', 's. start', 's. end', 'evalue', 'bit score']\n",
        "df.head()"
      ]
    },
    {
      "cell_type": "code",
      "execution_count": null,
      "metadata": {
        "deletable": false,
        "nbgrader": {
          "cell_type": "code",
          "checksum": "b86006ee1c3dfc2c3dadb36b41c72950",
          "grade": false,
          "grade_id": "cell-2a43861f4bcb3773",
          "locked": false,
          "schema_version": 3,
          "solution": true,
          "task": false
        },
        "colab": {
          "base_uri": "https://localhost:8080/"
        },
        "id": "NkwW_rPCC235",
        "outputId": "e8c91482-957c-4adf-bdb2-0dd07b7e9473"
      },
      "outputs": [
        {
          "output_type": "stream",
          "name": "stderr",
          "text": [
            "/usr/local/lib/python3.10/dist-packages/sklearn/cluster/_kmeans.py:870: FutureWarning: The default value of `n_init` will change from 10 to 'auto' in 1.4. Set the value of `n_init` explicitly to suppress the warning\n",
            "  warnings.warn(\n",
            "/usr/local/lib/python3.10/dist-packages/sklearn/cluster/_kmeans.py:870: FutureWarning: The default value of `n_init` will change from 10 to 'auto' in 1.4. Set the value of `n_init` explicitly to suppress the warning\n",
            "  warnings.warn(\n"
          ]
        }
      ],
      "source": [
        "## Fit a K-means clustering with 10 clusters as an inital guess and a random state of 10 on the numeric columns in the dataframe.\n",
        "## Store the predicted groups in a variable called 'y_pred'. \n",
        "\n",
        "df_numeric = df[['% identity', 'alignment length', 'mismatches', 'gap opens', 'q. start', 'q. end',\n",
        "        's. start', 's. end', 'evalue', 'bit score']]\n",
        "\n",
        "kmeans = KMeans(n_clusters=10, random_state=10).fit(df_numeric)\n",
        "y_pred = kmeans.predict(df_numeric)\n",
        "cluster_labels = kmeans.fit_predict(df_numeric)\n",
        "\n",
        "## Store the silhouette score on the predicted groups in a variable called 'score'.\n",
        "\n",
        "score = silhouette_score(df_numeric, y_pred)"
      ]
    },
    {
      "cell_type": "code",
      "execution_count": null,
      "metadata": {
        "deletable": false,
        "nbgrader": {
          "cell_type": "code",
          "checksum": "911efe17f5166082a9c36740dc8288aa",
          "grade": false,
          "grade_id": "cell-d5a8840325b34617",
          "locked": false,
          "schema_version": 3,
          "solution": true,
          "task": false
        },
        "colab": {
          "base_uri": "https://localhost:8080/"
        },
        "id": "vgHJf4bAC237",
        "outputId": "ae1b8f00-665b-429e-e83a-8639a4175816"
      },
      "outputs": [
        {
          "output_type": "stream",
          "name": "stderr",
          "text": [
            "/usr/local/lib/python3.10/dist-packages/sklearn/cluster/_kmeans.py:870: FutureWarning: The default value of `n_init` will change from 10 to 'auto' in 1.4. Set the value of `n_init` explicitly to suppress the warning\n",
            "  warnings.warn(\n",
            "/usr/local/lib/python3.10/dist-packages/sklearn/cluster/_kmeans.py:870: FutureWarning: The default value of `n_init` will change from 10 to 'auto' in 1.4. Set the value of `n_init` explicitly to suppress the warning\n",
            "  warnings.warn(\n",
            "/usr/local/lib/python3.10/dist-packages/sklearn/cluster/_kmeans.py:870: FutureWarning: The default value of `n_init` will change from 10 to 'auto' in 1.4. Set the value of `n_init` explicitly to suppress the warning\n",
            "  warnings.warn(\n",
            "/usr/local/lib/python3.10/dist-packages/sklearn/cluster/_kmeans.py:870: FutureWarning: The default value of `n_init` will change from 10 to 'auto' in 1.4. Set the value of `n_init` explicitly to suppress the warning\n",
            "  warnings.warn(\n",
            "/usr/local/lib/python3.10/dist-packages/sklearn/cluster/_kmeans.py:870: FutureWarning: The default value of `n_init` will change from 10 to 'auto' in 1.4. Set the value of `n_init` explicitly to suppress the warning\n",
            "  warnings.warn(\n",
            "/usr/local/lib/python3.10/dist-packages/sklearn/cluster/_kmeans.py:870: FutureWarning: The default value of `n_init` will change from 10 to 'auto' in 1.4. Set the value of `n_init` explicitly to suppress the warning\n",
            "  warnings.warn(\n",
            "/usr/local/lib/python3.10/dist-packages/sklearn/cluster/_kmeans.py:870: FutureWarning: The default value of `n_init` will change from 10 to 'auto' in 1.4. Set the value of `n_init` explicitly to suppress the warning\n",
            "  warnings.warn(\n",
            "/usr/local/lib/python3.10/dist-packages/sklearn/cluster/_kmeans.py:870: FutureWarning: The default value of `n_init` will change from 10 to 'auto' in 1.4. Set the value of `n_init` explicitly to suppress the warning\n",
            "  warnings.warn(\n"
          ]
        }
      ],
      "source": [
        "## Store the silhouette scores for clusters 2 to 9 in a list called 'silhouette_scores'.\n",
        "## Use a random state of 0 for each prediction.\n",
        "\n",
        "silhouette_scores = []\n",
        "for i in range(2,10):\n",
        "    kmeans = KMeans(n_clusters=i, random_state=0).fit(df_numeric)\n",
        "    y_pred = kmeans.predict(df_numeric)\n",
        "    silhouette_scores.append(silhouette_score(df_numeric, y_pred))"
      ]
    },
    {
      "cell_type": "code",
      "execution_count": null,
      "metadata": {
        "deletable": false,
        "editable": false,
        "nbgrader": {
          "cell_type": "code",
          "checksum": "2eedb9cebc7ff717f4310cfeae866637",
          "grade": true,
          "grade_id": "cell-009521ae52060403",
          "locked": true,
          "points": 30,
          "schema_version": 3,
          "solution": false,
          "task": false
        },
        "colab": {
          "base_uri": "https://localhost:8080/",
          "height": 430
        },
        "id": "VphK-Ix-C237",
        "outputId": "ed7b03cd-be8d-4f2e-c7da-9631c0fb7fe1"
      },
      "outputs": [
        {
          "output_type": "display_data",
          "data": {
            "text/plain": [
              "<Figure size 640x480 with 1 Axes>"
            ],
            "image/png": "[encoded data removed]"
          },
          "metadata": {}
        }
      ],
      "source": [
        "plt.bar(range(2, len(silhouette_scores) +2), silhouette_scores)\n",
        "plt.show()"
      ]
    },
    {
      "cell_type": "markdown",
      "source": [
        "As we can conclude from the graph above, 5 clusters is the optimal choice"
      ],
      "metadata": {
        "id": "IIDQAkOvDdD8"
      }
    },
    {
      "cell_type": "code",
      "execution_count": null,
      "metadata": {
        "deletable": false,
        "nbgrader": {
          "cell_type": "code",
          "checksum": "e9748465e175cf78ae7647c2b5dd1b01",
          "grade": false,
          "grade_id": "cell-d2ff170a7281f9cb",
          "locked": false,
          "schema_version": 3,
          "solution": true,
          "task": false
        },
        "colab": {
          "base_uri": "https://localhost:8080/"
        },
        "id": "SyFp8lV2C239",
        "outputId": "8d1e1ef0-7af7-4f0d-ba31-2973057b96ed"
      },
      "outputs": [
        {
          "output_type": "stream",
          "name": "stderr",
          "text": [
            "/usr/local/lib/python3.10/dist-packages/sklearn/cluster/_kmeans.py:870: FutureWarning: The default value of `n_init` will change from 10 to 'auto' in 1.4. Set the value of `n_init` explicitly to suppress the warning\n",
            "  warnings.warn(\n"
          ]
        }
      ],
      "source": [
        "## Use a K-means clustering with 5 clusters on the normalized numeric dataframe. Use a random state of 0.\n",
        "## Store the cluster centers in a dataframe called 'cluster_centers'. \n",
        "\n",
        "# Normalize the numeric dataframe\n",
        "scaler = StandardScaler()\n",
        "normalized_df = scaler.fit_transform(df_numeric)\n",
        "\n",
        "# Perform K-means clustering\n",
        "kmeans = KMeans(n_clusters=5, random_state=0)\n",
        "kmeans.fit(normalized_df)\n",
        "y_pred = kmeans.predict(normalized_df)\n",
        "\n",
        "# Store cluster centers in a dataframe\n",
        "cluster_centers = pd.DataFrame(kmeans.cluster_centers_, index=['Cluster 1', 'Cluster 2', 'Cluster 3', 'Cluster 4', 'Cluster 5'], columns=df_numeric.columns)"
      ]
    },
    {
      "cell_type": "code",
      "source": [
        "# Set a custom color palette for the clusters\n",
        "colors = sns.color_palette('Set1', n_colors=5)\n",
        "\n",
        "# Scatter plot of the normalized dataframe\n",
        "plt.figure(figsize=(8, 6))  # Adjust the figure size if needed\n",
        "plt.scatter(normalized_df[:, 0], normalized_df[:, 1], c=y_pred, cmap='viridis', alpha=0.8, s=50, edgecolor='k', linewidths=0.5)\n",
        "plt.scatter(cluster_centers.iloc[:, 0], cluster_centers.iloc[:, 1], marker='x', color='red', s=200)\n",
        "\n",
        "# Set labels and title\n",
        "plt.title('K-means Clustering', fontsize=14)\n",
        "\n",
        "\n",
        "# Show the plot\n",
        "plt.tight_layout()  # Adjust the spacing between elements\n",
        "plt.show()\n"
      ],
      "metadata": {
        "colab": {
          "base_uri": "https://localhost:8080/",
          "height": 606
        },
        "id": "WDgcXlZ2D8dd",
        "outputId": "7618504f-89c4-4f73-a51b-6fdbed857ba5"
      },
      "execution_count": null,
      "outputs": [
        {
          "output_type": "display_data",
          "data": {
            "text/plain": [
              "<Figure size 800x600 with 1 Axes>"
            ],
            "image/png": "[encoded data removed]"
          },
          "metadata": {}
        }
      ]
    }
  ],
  "metadata": {
    "kernelspec": {
      "display_name": "Python 3",
      "language": "python",
      "name": "python3"
    },
    "language_info": {
      "codemirror_mode": {
        "name": "ipython",
        "version": 3
      },
      "file_extension": ".py",
      "mimetype": "text/x-python",
      "name": "python",
      "nbconvert_exporter": "python",
      "pygments_lexer": "ipython3",
      "version": "3.7.6"
    },
    "colab": {
      "provenance": [],
      "include_colab_link": true
    }
  },
  "nbformat": 4,
  "nbformat_minor": 0
}